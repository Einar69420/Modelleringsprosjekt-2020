{
 "cells": [
  {
   "cell_type": "markdown",
   "metadata": {},
   "source": [
    "# Oppgave 3 - Modellering av Newtons lover"
   ]
  },
  {
   "cell_type": "markdown",
   "metadata": {},
   "source": [
    "## Luftmotstand - Oppgave 8.18"
   ]
  },
  {
   "cell_type": "markdown",
   "metadata": {},
   "source": [
    "### Akselerasjon uttrykt ved Newtons 2. lov\n",
    "Med Newtons 2. lov så ser man at summen av krefter er lik masse ganget med akselerasjonen.\n",
    "\n",
    "De eneste kreftene som virker på fuglen i x-aksen er summen av kreftene lik drivkraften.\n",
    "Det tilsvarer D = 0.5 N. Da får man 0.5 = m*a som man kan skrive om til å være a = 0.5/m.\n",
    "Man ser at dette stemmer siden enheten N, Newton kan skrives som kg*m/(s^2). Dette ganget med masse blir m/(s^2) som er akselerasjon.\n",
    "$$F = D$$\n",
    "\n",
    "$$\\sum{F} = m*a$$\n",
    "$$\\Downarrow$$\n",
    "$$D=m*a$$\n",
    "$$\\Updownarrow$$\n",
    "$$a = \\frac{D}{m}$$\n",
    "\n"
   ]
  },
  {
   "cell_type": "markdown",
   "metadata": {},
   "source": [
    "### Fuglens fart og posisjon"
   ]
  },
  {
   "cell_type": "markdown",
   "metadata": {},
   "source": [
    "#### Ser bort ifra luftmotstand"
   ]
  },
  {
   "cell_type": "code",
   "execution_count": 7,
   "metadata": {},
   "outputs": [],
   "source": [
    "from pylab import *\n",
    "\n",
    "#Fysiske størrelser\n",
    "m=0.400\n",
    "D=0.5\n",
    "\n",
    "# Tidsintervaller\n",
    "N=100000 # Antall intervaller\n",
    "tid=5 # Antall sekunder\n",
    "dt=tid/(N) # Tidssteget\n",
    "\n",
    "# Matriser for å lagre verdiene vi beregner\n",
    "a=zeros(N)\n",
    "v=zeros(N)\n",
    "s=zeros(N)\n",
    "t=zeros(N)\n",
    "\n",
    "#Initialbetingelser\n",
    "v[0]=22\n",
    "s[0]=0\n",
    "\n",
    "#Funksjon som finner fart, strekning og tid ved hjelp av Eulers metode\n",
    "def EulersMetode():\n",
    "     for i in range(N-1):\n",
    "        a[i] = D/m \n",
    "        v[i+1] = v[i]+a[i]*dt  \n",
    "        s[i+1] = s[i]+v[i]*dt  \n",
    "        t[i+1] = t[i]+dt       \n",
    "\n",
    "#Funksjon som plotter hastigehten        \n",
    "def plottHastighet():\n",
    "    plot(t,v,\"r-\")\n",
    "    title(\"Hastighet\")\n",
    "    xlabel(\"Tid [s]\")\n",
    "    ylabel(\"Hastighet [m/s]\")\n",
    "\n",
    "#Funksjon som plotter strekningen\n",
    "def plottStrekning():\n",
    "    plot(t,s,\"g-\")\n",
    "    title(\"Strekning\")\n",
    "    xlabel(\"Tid [s]\")\n",
    "    ylabel(\"Strekning [m]\")\n",
    "    \n",
    "\n",
    "hastighet = False\n",
    "\n",
    "# Funskjon som gjør alle beregninger, og som deretter kan plotte enten hastighet- eller strekningsgrafen. \n",
    "# Når man kaller på funksjonen velger man hvilken graf man vil plotte ved skrive enten True eller False som parameter.\n",
    "def Beregn(hastighet):\n",
    "    EulersMetode()\n",
    "    if hastighet == True:\n",
    "        plottHastighet()\n",
    "    else:\n",
    "        plottStrekning()"
   ]
  },
  {
   "cell_type": "code",
   "execution_count": 8,
   "metadata": {},
   "outputs": [
    {
     "data": {
      "image/png": "[encoded data removed]",
      "text/plain": [
       "<Figure size 432x288 with 1 Axes>"
      ]
     },
     "metadata": {
      "needs_background": "light"
     },
     "output_type": "display_data"
    }
   ],
   "source": [
    "Beregn(True)"
   ]
  },
  {
   "cell_type": "code",
   "execution_count": 5,
   "metadata": {},
   "outputs": [
    {
     "data": {
      "image/png": "[encoded data removed]",
      "text/plain": [
       "<Figure size 432x288 with 1 Axes>"
      ]
     },
     "metadata": {
      "needs_background": "light"
     },
     "output_type": "display_data"
    }
   ],
   "source": [
    "Beregn(False)"
   ]
  },
  {
   "cell_type": "markdown",
   "metadata": {},
   "source": [
    "### Luftmotstand\n",
    "Luftmotstand modelleres ofte som: L = k*v^2\n",
    "\n",
    "Farten, v vil her være fuglens hastighet uten tanke på vind subtrahert  med vindens hastighet siden er motsatt rettet (vestover)\n",
    "\n",
    "Derfor blir v = v(t) - w , som gir L = k*(v(t)-w)^2\n",
    "\n",
    "Siden luftmotstanden, altså vindkraften er motsatt rettet av drivkraften og da fuglens retning. \n",
    "\n",
    "Derfor blir denne kraften negativ og den samlede kraften, F = -L + D = -k*(v(t)-w)^2 + D\n",
    "\n",
    "Det gir a = F/m -> (-k*(v(t)-w)^2)/m"
   ]
  },
  {
   "cell_type": "markdown",
   "metadata": {},
   "source": [
    "### Fuglens fart og posisjon"
   ]
  },
  {
   "cell_type": "markdown",
   "metadata": {},
   "source": [
    "#### Tar hensyn til luftmotstand:"
   ]
  },
  {
   "cell_type": "code",
   "execution_count": 27,
   "metadata": {},
   "outputs": [],
   "source": [
    "from pylab import *\n",
    "\n",
    "#Fysiske størrelser\n",
    "m=0.400\n",
    "D=0.5\n",
    "k = 0.083\n",
    "\n",
    "# Tidsintervaller\n",
    "N=100000 # Antall intervaller\n",
    "tid=5 # Antall sekunder\n",
    "dt=tid/(N) # Tidssteget\n",
    "\n",
    "# Matriser for å lagre verdiene vi beregner\n",
    "a=zeros(N)\n",
    "v=zeros(N)\n",
    "s=zeros(N)\n",
    "t=zeros(N)\n",
    "\n",
    "#Initialbetingelser\n",
    "v[0]=22\n",
    "s[0]=0\n",
    "\n",
    "#Funksjon som finner akselerasjon, fart, strekning og tid ved hjelp av Eulers metode\n",
    "def EulersMetode(w):\n",
    "     for i in range(N-1):\n",
    "        a[i] = ((-k*(v[i]-w)**2)+D)/m \n",
    "        v[i+1] = v[i]+a[i]*dt\n",
    "        s[i+1] = s[i]+v[i]*dt\n",
    "        t[i+1] = t[i]+dt\n",
    "\n",
    "#Funksjon som plotter hastigehten  \n",
    "def plottHastighet():\n",
    "    plot(t,v,\"r-\")\n",
    "    title(\"Hastighet\")\n",
    "    xlabel(\"Tid [s]\")\n",
    "    ylabel(\"Hastighet [m/s]\")\n",
    "\n",
    "#Funksjon som plotter strekningen\n",
    "def plottStrekning():\n",
    "    plot(t,s,\"g-\")\n",
    "    title(\"Strekning\")\n",
    "    xlabel(\"Tid [s]\")\n",
    "    ylabel(\"Strekning [m]\")\n",
    "\n",
    "\n",
    "hastighet = False\n",
    "\n",
    "# Funskjon som gjør alle beregninger, og som deretter kan plotte enten hastighet- eller strekningsgrafen.\n",
    "# Når man kaller på funksjonen velger man en verdi for w, altså vindhastigheten.  \n",
    "# Deretter velger man hvilken graf man vil plotte ved skrive enten True eller False som parameter.\n",
    "def Beregn(w, hastighet):\n",
    "    EulersMetode(w)\n",
    "    if hastighet == True:\n",
    "        plottHastighet()\n",
    "    else:\n",
    "        plottStrekning()"
   ]
  },
  {
   "cell_type": "markdown",
   "metadata": {},
   "source": [
    "#### w = -5"
   ]
  },
  {
   "cell_type": "code",
   "execution_count": 30,
   "metadata": {
    "scrolled": true
   },
   "outputs": [
    {
     "data": {
      "image/png": "[encoded data removed]",
      "text/plain": [
       "<Figure size 432x288 with 1 Axes>"
      ]
     },
     "metadata": {
      "needs_background": "light"
     },
     "output_type": "display_data"
    }
   ],
   "source": [
    "Beregn(-5, True)"
   ]
  },
  {
   "cell_type": "code",
   "execution_count": 31,
   "metadata": {},
   "outputs": [
    {
     "data": {
      "image/png": "[encoded data removed]",
      "text/plain": [
       "<Figure size 432x288 with 1 Axes>"
      ]
     },
     "metadata": {
      "needs_background": "light"
     },
     "output_type": "display_data"
    }
   ],
   "source": [
    "Beregn(-5, False)"
   ]
  },
  {
   "cell_type": "markdown",
   "metadata": {},
   "source": [
    "#### w = 0"
   ]
  },
  {
   "cell_type": "code",
   "execution_count": 33,
   "metadata": {},
   "outputs": [
    {
     "data": {
      "image/png": "[encoded data removed]",
      "text/plain": [
       "<Figure size 432x288 with 1 Axes>"
      ]
     },
     "metadata": {
      "needs_background": "light"
     },
     "output_type": "display_data"
    }
   ],
   "source": [
    "Beregn(0, True)"
   ]
  },
  {
   "cell_type": "code",
   "execution_count": 32,
   "metadata": {},
   "outputs": [
    {
     "data": {
      "image/png": "[encoded data removed]",
      "text/plain": [
       "<Figure size 432x288 with 1 Axes>"
      ]
     },
     "metadata": {
      "needs_background": "light"
     },
     "output_type": "display_data"
    }
   ],
   "source": [
    "Beregn(0, False)"
   ]
  },
  {
   "cell_type": "markdown",
   "metadata": {},
   "source": [
    "#### w = 10"
   ]
  },
  {
   "cell_type": "code",
   "execution_count": 35,
   "metadata": {},
   "outputs": [
    {
     "data": {
      "image/png": "[encoded data removed]",
      "text/plain": [
       "<Figure size 432x288 with 1 Axes>"
      ]
     },
     "metadata": {
      "needs_background": "light"
     },
     "output_type": "display_data"
    }
   ],
   "source": [
    "Beregn(0, True)"
   ]
  },
  {
   "cell_type": "code",
   "execution_count": 34,
   "metadata": {},
   "outputs": [
    {
     "data": {
      "image/png": "[encoded data removed]",
      "text/plain": [
       "<Figure size 432x288 with 1 Axes>"
      ]
     },
     "metadata": {
      "needs_background": "light"
     },
     "output_type": "display_data"
    }
   ],
   "source": [
    "Beregn(0, False)"
   ]
  },
  {
   "cell_type": "markdown",
   "metadata": {},
   "source": [
    "### Tolkning av resultater\n",
    "Plottene viser at vindhastigheten påvirker fuglens posisjon. Hvis vindkraften w går i negativ retning, altså motsatt av fuglens flyveretning, og blåser en vind på 5 m/s vil ikke fuglen klare å fly østover. Når vindhastigheten er 5 m/s i motsatt retning av fuglens fartsretning vil også fuglen etter 1,3 sekunder blåses bakover. Når w er positiv, altså når vindretningen er den samme som fartsretningen, vil fuglen bevege seg enda raskere og lengre, siden den vil bli et positivt tilskudd til fuglens drivkraft østover."
   ]
  },
  {
   "cell_type": "markdown",
   "metadata": {},
   "source": [
    "## Friksjonskraft - Oppgave 8.23"
   ]
  },
  {
   "cell_type": "markdown",
   "metadata": {},
   "source": [
    "### Akselerasjon uttrykt ved Newtons 2. lov\n",
    "\n",
    "Med Newtons 2. lov så ser man at summen av krefter er lik masse ganget med akselerasjonen.\n",
    "   \n",
    "\n",
    "Når man ser bort ifra friksjon er den eneste kraften som virker på kassen skyvekraften D. Dermed blir:\n",
    "\n",
    "$$F = D$$\n",
    "\n",
    "$$\\sum{F} = m*a$$\n",
    "$$\\Downarrow$$\n",
    "$$D=m*a$$\n",
    "\n",
    "Og så gjør vi om på denne formelen for å finne et uttrykk for akselerasjonen:\n",
    "$$a = \\frac{D}{m}$$\n",
    "\n",
    "\n"
   ]
  },
  {
   "cell_type": "markdown",
   "metadata": {},
   "source": [
    "### Uttrykk for akselerasjon der man tar hensyn til friksjon\n",
    "$$a=\\begin{cases} \\frac{D}{m}, & dersom \\ v=0 \\\\ -\\mu*g, & så \\ lenge \\ |v|>0 \\end{cases}$$\n"
   ]
  },
  {
   "cell_type": "markdown",
   "metadata": {},
   "source": [
    "\n",
    "I det øyeblikket vi påvirker kassen med kraften D, er farten lik null. Da er det ingen andre krefter som virker enn den vi påfører. Etter at vi har sluttet å dytte kassen virker ikke D lenger, men friksjonskraften virker i motsatt retning til bevegelsesretningen. Da blir akselerasjonen negativ fram til kassen har stoppet opp. \n",
    "Altså når farten er noe annet enn 0, er akselerasjonen lik friksjonskraften.\n",
    "    \n",
    "Når farten ikke er lik null:\n",
    "$$\\sum{F} = -R = ma$$\n",
    "$$\\Updownarrow$$\n",
    "$$m*a = -R$$\n",
    "\n",
    "\n",
    "$$R = \\mu*N$$\n",
    "\n",
    "\n",
    "$$N = G = m*g$$\n",
    "$$\\Downarrow$$\n",
    "$$R = \\mu*m*g$$\n",
    "$$\\Updownarrow$$\n",
    "$$m*a = -\\mu*m*g$$\n",
    "$$\\Updownarrow$$\n",
    "$$a = -\\mu*g$$"
   ]
  },
  {
   "cell_type": "markdown",
   "metadata": {},
   "source": [
    "### Kassens posisjon langs x-aksen"
   ]
  },
  {
   "cell_type": "code",
   "execution_count": 10,
   "metadata": {},
   "outputs": [
    {
     "data": {
      "image/png": "[encoded data removed]",
      "text/plain": [
       "<Figure size 432x288 with 1 Axes>"
      ]
     },
     "metadata": {
      "needs_background": "light"
     },
     "output_type": "display_data"
    }
   ],
   "source": [
    "from pylab import *\n",
    "\n",
    "#Fysiske størrelser\n",
    "m = 4.0   #Enhet: kg\n",
    "D = 10000   #Enhet: N\n",
    "friksjonstall = 0.2 \n",
    "g = 9.81   #Tyngdeakselerasjonen (m/s^2)\n",
    "\n",
    "# Tidsintervaller\n",
    "N = 10000 # Antall intervaller\n",
    "tid = 1\n",
    "dt = tid/(N)\n",
    "\n",
    "# Matriser for å lagre verdiene vi beregner\n",
    "v=zeros(N)\n",
    "s=zeros(N)\n",
    "t=zeros(N)\n",
    "\n",
    "a = D/m\n",
    "    \n",
    "for i in range(N-1):\n",
    "    v[i+1] = v[i]+a*dt    #Finner ny fart\n",
    "    s[i+1] = s[i]+v[i+1]*dt   #Finner ny posisjon\n",
    "    t[i+1] = t[i]+dt   #Finner nytt tidspunkt\n",
    "    if abs(v[i+1]) > 0.01:\n",
    "        a = -friksjonstall*g    # Hvis kassen er i bevegelse skal den ikke kunne dyttes noe mer, men bare stoppes opp av \n",
    "                                # friksjon. Da blir uttrykket for akselerasjonen: -friksjonstallet*g\n",
    "    else:\n",
    "        a = D/m   #Hvis kassen står stille, så skal den dyttes av gårde. Da blir uttrykket for akselerasjonen: D/m\n",
    "\n",
    "#En funksjon som plotter farten og posisjonen\n",
    "def plottFartOgPos():\n",
    "    plot(t,v,\"r-\")\n",
    "    plot(t,s,\"b-\")\n",
    "    title(\"Bevegelse og fart til en kasse\")\n",
    "    xlabel(\"Tid [s]\")\n",
    "    legend([\"Posisjon langs x-akse\", \"Fart\"])     \n",
    "\n",
    "plottFartOgPos()"
   ]
  },
  {
   "cell_type": "markdown",
   "metadata": {},
   "source": [
    "### Simulering av kassens posisjon langs to akser"
   ]
  },
  {
   "cell_type": "code",
   "execution_count": 1,
   "metadata": {},
   "outputs": [
    {
     "name": "stdout",
     "output_type": "stream",
     "text": [
      "pygame 1.9.6\n",
      "Hello from the pygame community. https://www.pygame.org/contribute.html\n"
     ]
    }
   ],
   "source": [
    "from pylab import *\n",
    "import pygame\n",
    "\n",
    "# Tidsintervaller\n",
    "N = 1000 # Antall intervaller\n",
    "dt = 1/(N-1)\n",
    "\n",
    "#Lager variablene vindu- høyde og bredde\n",
    "screenWidth = 500\n",
    "screenHeight = 500\n",
    "\n",
    "kassex = screenWidth/2\n",
    "kassey = screenHeight/2\n",
    "b = 10\n",
    "\n",
    "pygame.init()\n",
    "WHITE = (255,255,255)\n",
    "RED = (255,0,0)\n",
    "\n",
    "# Lager vinduet, gjør det hvitt og gir det navnet \"Modell\"\n",
    "win = pygame.display.set_mode((screenWidth, screenHeight))\n",
    "win.fill(WHITE)\n",
    "pygame.display.set_caption(\"Modell\")\n",
    "\n",
    "# Lager kassen\n",
    "pygame.draw.rect(win, RED, (kassex, kassey, 2*b, 2*b))\n",
    "\n",
    "# Lager to matriser med N rader, og 2 kolonner\n",
    "pos = zeros([N,2])\n",
    "fart = zeros([N,2])\n",
    "\n",
    "\n",
    "run = True\n",
    "a = zeros(2)    # Lager en matrise med 2 nuller \n",
    "                # Altså: [0 0]\n",
    "\n",
    "m = 4   #Enhet: kg\n",
    "D = 10000   #Enhet: N\n",
    "friksjonstall = 0.2\n",
    "g = 9.81   #Tyngdeakselerasjonen (m/s^2)\n",
    "\n",
    "i = 0   # i er en tellevariabel som lar oss gå én rad ned i pos og fart per gjennomgang, og som lagrer de nye fartsverdiene\n",
    "        # nedover i radene i matrisene.\n",
    "    \n",
    "dytt = D/m   # Dytte-akselerasjonen \n",
    "\n",
    "while run:\n",
    "#Første kolonne i matrisen \"fart\"\n",
    "#Dette er farten langs x-aksen\n",
    "    if abs(fart[i,0]) > 0.2:   # Sjekker om farten er større enn 0.2, uavhengig av retning\n",
    "        fortegn = 1\n",
    "\n",
    "        if fart[i,0] > 0:    #Sjekker retningen for å bestemme fortegnet til friksjonskraften\n",
    "            fortegn = -1\n",
    "            a[0] += fortegn * friksjonstall * g\n",
    "            \n",
    "    else:    # Hvis ikke, er farten lik 0 og man ser bort ifra friksjon.\n",
    "        fart[i,0] = 0\n",
    "\n",
    "#Andre kolonne i matrisen \"fart\"\n",
    "#Dette er farten langs y-aksen\n",
    "    if abs(fart[i,1]) > 0.2:    # Sjekker om farten er større enn 0.2, uavhengig av retning\n",
    "        fortegn = 1\n",
    "        \n",
    "        if fart[i,1] > 0:    # Sjekker retningen for å bestemme fortegnet til friksjonskraften\n",
    "            fortegn = -1\n",
    "            a[1] += fortegn * friksjonstall * g\n",
    "    \n",
    "    else:     # Hvis ikke, er farten lik 0 og man ser bort ifra friksjon.\n",
    "        fart[i,1] = 0\n",
    "\n",
    "    \n",
    "#Euler-Cromers metode som beregner fart og posisjoner\n",
    "    fart[i+1] = fart[i] + a*dt\n",
    "    pos[i+1] = pos[i] + fart[i+1]*dt\n",
    "    \n",
    "#Posisjoner til kassen\n",
    "    x = pos[i,0]\n",
    "    y = pos[i,1]\n",
    "   \n",
    "# Gjør bakgrunnen hvit, og lager kassen\n",
    "    win.fill(WHITE)\n",
    "    pygame.draw.rect(win, RED, (x, y, 2*b, 2*b))\n",
    "    pygame.display.update()\n",
    "    \n",
    "# If-test som nullstiller  \n",
    "    if i+1 < N-1:\n",
    "        i += 1\n",
    "    \n",
    "    else:\n",
    "        i = 0\n",
    "        pos[0,:] = pos[N-1,:]\n",
    "        fart[0,:] = fart[N-1,:] \n",
    "# Denne delen av koden legger til 1 på i helt til i er større enn N(som er antall rader i matrisene pos og fart).\n",
    "# Når i er større enn N vil den resettes, og de to siste elementene i matrisene lagres i den nye matrisen.\n",
    "\n",
    "\n",
    "    a = zeros(2)    # Resetter a-matrisen slik at programmet ikke skal fortsette å påføre \"dytt\" etter at vi har\n",
    "                    # sluppet tasten\n",
    " \n",
    "    keys = pygame.key.get_pressed()    # Programmet registrerer input fra tastaturet\n",
    "        \n",
    "    if keys[pygame.K_LEFT]:    # Dytt til venstre\n",
    "        a[0] = -dytt\n",
    "    \n",
    "    elif keys[pygame.K_RIGHT]:    # Dytt til høyre\n",
    "        a[0] = dytt\n",
    "            \n",
    "    elif keys[pygame.K_UP]:      # Dytt oppover\n",
    "        a[1] = -dytt\n",
    "            \n",
    "    elif keys[pygame.K_DOWN]:      # Dytt nedover\n",
    "        a[1] = dytt\n",
    "\n",
    "# Hvis man krysser ut vinduet så stopper programmet\n",
    "    for event in pygame.event.get():        \n",
    "        if event.type == pygame.QUIT:\n",
    "            run = False\n",
    "        \n",
    "    pygame.display.update()\n",
    "    \n",
    "pygame.quit()\n",
    "quit()"
   ]
  },
  {
   "cell_type": "markdown",
   "metadata": {},
   "source": [
    "### Tillegg: Tar hensyn til kassens uelastiske kollisjoner med \"veggene\""
   ]
  },
  {
   "cell_type": "code",
   "execution_count": 11,
   "metadata": {},
   "outputs": [
    {
     "name": "stdout",
     "output_type": "stream",
     "text": [
      "pygame 1.9.6\n",
      "Hello from the pygame community. https://www.pygame.org/contribute.html\n"
     ]
    }
   ],
   "source": [
    "from pylab import *\n",
    "import pygame\n",
    "\n",
    "N = 1000 \n",
    "dt = 1/(N-1)\n",
    "\n",
    "screenWidth = 500\n",
    "screenHeight = 500\n",
    "\n",
    "kassex = screenWidth/2\n",
    "kassey = screenHeight/2\n",
    "b = 10\n",
    "\n",
    "pygame.init()\n",
    "WHITE = (255,255,255)\n",
    "RED = (255,0,0)\n",
    "\n",
    "\n",
    "win = pygame.display.set_mode((screenWidth, screenHeight))\n",
    "win.fill(WHITE)\n",
    "pygame.display.set_caption(\"Modell\")\n",
    "\n",
    "\n",
    "pygame.draw.rect(win, RED, (kassex, kassey, 2*b, 2*b))\n",
    "\n",
    "\n",
    "pos = zeros([N,2])\n",
    "fart = zeros([N,2])\n",
    "\n",
    "\n",
    "run = True\n",
    "a = zeros(2)\n",
    "\n",
    "m = 4   \n",
    "D = 10000  \n",
    "friksjonstall = 0.2\n",
    "g = 9.81   \n",
    "r = 0.8    #Faktoren som farten endrer seg med under en uelastisk kollisjon\n",
    "\n",
    "i = 0   \n",
    "        \n",
    "dytt = D/m\n",
    "while run:\n",
    "    if abs(fart[i,0]) > 0.2:\n",
    "        fortegn = 1\n",
    "    \n",
    "        if fart[i,0] > 0:\n",
    "            fortegn = -1\n",
    "            a[0] += fortegn * friksjonstall * g\n",
    "            \n",
    "    else:\n",
    "        fart[i,0] = 0\n",
    "\n",
    "\n",
    "    if abs(fart[i,1]) > 0.2:\n",
    "        fortegn = 1\n",
    "        \n",
    "        if fart[i,1] > 0:\n",
    "            fortegn = -1\n",
    "            a[1] += fortegn * friksjonstall * g\n",
    "    \n",
    "    else:\n",
    "        fart[i,1] = 0\n",
    "    \n",
    "    \n",
    "    x = pos[i,0]\n",
    "    y = pos[i,1]\n",
    "\n",
    "#### Uelastisk kollisjon\n",
    "    # Loddrett kant\n",
    "        # pos = screenWidth eller pos = 0\n",
    "    if x >= screenWidth-2*b or x <= 0:\n",
    "        fart[i,0] *= -r\n",
    "        fart[i,1] *= r  \n",
    "    \n",
    "    # Vannrett kant\n",
    "        # pos = screenHeight eller pos = 0\n",
    "    if y >= screenHeight-2*b or y <= 0 :\n",
    "        fart[i,0] *= r  \n",
    "        fart[i,1] *= -r \n",
    "  \n",
    "    fart[i+1] = fart[i] + a*dt\n",
    "    pos[i+1] = pos[i] + fart[i+1]*dt\n",
    "    \n",
    "    win.fill(WHITE)\n",
    "    pygame.draw.rect(win, RED, (x, y, 2*b, 2*b))\n",
    "    pygame.display.update()\n",
    "    \n",
    "    \n",
    "    if i+1 < N-1:\n",
    "        i += 1\n",
    "    \n",
    "    else:\n",
    "        i = 0\n",
    "        pos[0,:] = pos[N-1,:]\n",
    "        fart[0,:] = fart[N-1,:] \n",
    "\n",
    "\n",
    "    a = zeros(2)\n",
    "    keys = pygame.key.get_pressed()\n",
    "        \n",
    "    if keys[pygame.K_LEFT]: \n",
    "        a[0] = -dytt\n",
    "    \n",
    "    elif keys[pygame.K_RIGHT]:    \n",
    "        a[0] = dytt\n",
    "            \n",
    "    elif keys[pygame.K_UP]:\n",
    "        a[1] = -dytt\n",
    "            \n",
    "    elif keys[pygame.K_DOWN]:\n",
    "        a[1] = dytt\n",
    "    \n",
    "    for event in pygame.event.get():        \n",
    "        if event.type == pygame.QUIT:\n",
    "            run = False\n",
    "        \n",
    "    pygame.display.update()\n",
    "    \n",
    "pygame.quit()\n",
    "quit()"
   ]
  },
  {
   "cell_type": "markdown",
   "metadata": {},
   "source": [
    "En bug som kan oppstå når den uelastiske kollisjonen skal skje er at kassen enten går videre forbi kanten av skjermen, og ikke bryr seg om den satte grensen, eller at den setter seg fast langs kanten. "
   ]
  }
 ],
 "metadata": {
  "file_extension": ".py",
  "kernelspec": {
   "display_name": "Python 3",
   "language": "python",
   "name": "python3"
  },
  "language_info": {
   "codemirror_mode": {
    "name": "ipython",
    "version": 3
   },
   "file_extension": ".py",
   "mimetype": "text/x-python",
   "name": "python",
   "nbconvert_exporter": "python",
   "pygments_lexer": "ipython3",
   "version": "3.7.4"
  },
  "mimetype": "text/x-python",
  "name": "python",
  "npconvert_exporter": "python",
  "pygments_lexer": "ipython3",
  "version": 3
 },
 "nbformat": 4,
 "nbformat_minor": 2
}
